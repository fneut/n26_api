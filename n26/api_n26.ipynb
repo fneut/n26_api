{
 "cells": [
  {
   "cell_type": "code",
   "execution_count": null,
   "metadata": {},
   "outputs": [],
   "source": [
    "import requests\n",
    "# from bs4 import BeautifulSoup\n",
    "import socket    \n",
    "from tenacity import retry, stop_after_delay, wait_fixed\n",
    "import time\n",
    "from n26_api import Api\n",
    "import sys\n",
    "import yaml\n",
    "print(sys.argv[1:])\n",
    "%autoreload 2"
   ]
  },
  {
   "cell_type": "markdown",
   "metadata": {},
   "source": [
    "# N26"
   ]
  },
  {
   "cell_type": "code",
   "execution_count": null,
   "metadata": {},
   "outputs": [],
   "source": [
    "GET = \"get\"\n",
    "POST = \"post\"\n",
    "\n",
    "EXPIRATION_TIME_KEY = \"expiration_time\"\n",
    "ACCESS_TOKEN_KEY = \"access_token\"\n",
    "REFRESH_TOKEN_KEY = \"refresh_token\"\n",
    "\n",
    "GRANT_TYPE_PASSWORD = \"password\"\n",
    "GRANT_TYPE_REFRESH_TOKEN = \"refresh_token\"\n",
    "BASE_URL_DE = \"https://api.tech26.de\"\n",
    "BASE_URL_GLOBAL = \"https://api.tech26.global\"\n",
    "USER_AGENT = \"Mozilla/5.0 (Macintosh; Intel Mac OS X 10_15_7) AppleWebKit/537.36 (KHTML, like Gecko) Chrome/102.0.0.0 Safari/537.36\"\n",
    "# BASIC_AUTH_HEADERS = {\"Authorization\": \"Basic bmF0aXZld2ViOg==\", \"Content-Type\": \"application/json\", \"User-Agent\": USER_AGENT}\n",
    "# BASIC_AUTH_HEADERS = {\"Authorization\": \"Basic bmF0aXZld2ViOg==\", \"Content-Type\": \"application/x-www-form-urlencoded\", \"User-Agent\": USER_AGENT}\n",
    "BASIC_AUTH_HEADERS = {\"Authorization\": \"Basic bmF0aXZld2ViOg==\"}"
   ]
  },
  {
   "cell_type": "code",
   "execution_count": null,
   "metadata": {},
   "outputs": [],
   "source": [
    "response = requests.head(f\"{BASE_URL_GLOBAL}/oauth2/token\")\n",
    "response.headers[\"x-request-id\"]"
   ]
  },
  {
   "cell_type": "code",
   "execution_count": null,
   "metadata": {},
   "outputs": [],
   "source": [
    "import os.path\n",
    "import time\n",
    "import csv\n",
    "FIELD_NAMES = [\"refresh_token\", \"expires_in\", \"time\"]"
   ]
  },
  {
   "cell_type": "code",
   "execution_count": null,
   "metadata": {},
   "outputs": [],
   "source": [
    "file_exists = os.path.isfile(\"refresh_token.csv\")\n",
    "print(file_exists)\n",
    "with open(\"refresh_token.csv\", \"a\") as f:\n",
    "    # csv_writer = csv.writer(f)\n",
    "    csv_writer = csv.DictWriter(f, fieldnames=FIELD_NAMES, delimiter=\",\")\n",
    "    if not file_exists:\n",
    "        print(\"in\")\n",
    "        csv_writer.writeheader()\n",
    "    line_to_write = {\n",
    "        \"refresh_token\": 124,\n",
    "        \"expires_in\": 5,\n",
    "        \"time\": time.time(),\n",
    "    }\n",
    "    csv_writer.writerow(line_to_write)"
   ]
  },
  {
   "cell_type": "code",
   "execution_count": null,
   "metadata": {},
   "outputs": [],
   "source": [
    "FIELD_NAMES = [\"refresh_token\", \"expires_in\", \"time\"]\n",
    "file_exists = os.path.isfile(\"refresh_token.csv\")\n",
    "with open(\"./refresh_token.csv\", \"a\") as f:\n",
    "    csv_writer = csv.DictWriter(f, fieldnames=FIELD_NAMES, delimiter=\",\")\n",
    "    if not file_exists:\n",
    "        csv_writer.writeheader()\n",
    "    line_to_write = {\n",
    "        \"refresh_token\": 3,\n",
    "        \"expires_in\": 3,\n",
    "        \"time\":4,\n",
    "    }\n",
    "    csv_writer.writerow(line_to_write)"
   ]
  },
  {
   "cell_type": "code",
   "execution_count": null,
   "metadata": {},
   "outputs": [],
   "source": [
    "history_of_refresh_token=1\n",
    "print(f\"history_of_refresh_token: {history_of_refresh_token}\\n\")"
   ]
  },
  {
   "cell_type": "code",
   "execution_count": null,
   "metadata": {},
   "outputs": [],
   "source": [
    "file_exists = os.path.isfile(\"./refresh_token.csv\")\n",
    "print(file_exists)"
   ]
  },
  {
   "cell_type": "code",
   "execution_count": null,
   "metadata": {},
   "outputs": [],
   "source": [
    "def first_try():\n",
    "    try:\n",
    "        with open(\"./refresh_token.csv\", \"r\") as f:\n",
    "            csv_reader = csv.DictReader(f)\n",
    "            if REFRESH_TOKEN_KEY in csv_reader.fieldnames:\n",
    "                history_of_refresh_token = [line[REFRESH_TOKEN_KEY] for line in csv_reader]\n",
    "                # self.token_data = {REFRESH_TOKEN_KEY: history_of_refresh_token[-1]}\n",
    "                print(f\"history_of_refresh_token: {history_of_refresh_token}\\n\")\n",
    "                return True\n",
    "            else:\n",
    "                print(\"nop\")\n",
    "                # raise AssertionError(\"Cant refresh token since no existing token data was found in file.Please initiate a new authentication instead.\")\n",
    "    # except (IOError, OSError, FileNotFoundError) as error:\n",
    "    except OSError as error:\n",
    "        # print(\"holi\")\n",
    "        raise OSError(\"holi\")\n",
    "            # \"Cant refresh token since no file to read existen token data was found. Please initiate a new authentication instead.\",error)"
   ]
  },
  {
   "cell_type": "code",
   "execution_count": null,
   "metadata": {},
   "outputs": [],
   "source": [
    "first_try()"
   ]
  },
  {
   "cell_type": "code",
   "execution_count": null,
   "metadata": {},
   "outputs": [],
   "source": [
    "def sec_try():\n",
    "    try:\n",
    "        first_try()\n",
    "    except OSError:\n",
    "        print(\"q weaa\")\n",
    "\n",
    "\n",
    "    "
   ]
  },
  {
   "cell_type": "code",
   "execution_count": null,
   "metadata": {},
   "outputs": [],
   "source": [
    "sec_try()"
   ]
  },
  {
   "cell_type": "code",
   "execution_count": null,
   "metadata": {},
   "outputs": [],
   "source": [
    "first_try().strerror == 'No such file or directory'"
   ]
  },
  {
   "cell_type": "code",
   "execution_count": null,
   "metadata": {},
   "outputs": [],
   "source": [
    "first_try().strerror"
   ]
  },
  {
   "cell_type": "code",
   "execution_count": null,
   "metadata": {},
   "outputs": [],
   "source": [
    "dir(first_try())"
   ]
  },
  {
   "cell_type": "code",
   "execution_count": null,
   "metadata": {},
   "outputs": [],
   "source": [
    "sec_try()"
   ]
  },
  {
   "cell_type": "code",
   "execution_count": null,
   "metadata": {},
   "outputs": [],
   "source": [
    "with open(\"./refresh_token.csv\", \"r\") as f:\n",
    "    csv_reader = csv.DictReader(f)\n",
    "    if \"refresh_token\" in csv_reader.fieldnames:\n",
    "        history_of_refresh_token = [line[\"refresh_token\"] for line in csv_reader]\n",
    "        print(f\"history_of_refresh_token: {history_of_refresh_token}\\n\")\n",
    "    else:\n",
    "        raise ValueError(\"No refresh token was found in the columns\")\n",
    "    except Exception:\n",
    "        print('not found')"
   ]
  },
  {
   "cell_type": "code",
   "execution_count": null,
   "metadata": {},
   "outputs": [],
   "source": [
    "response = requests.post(f\"{BASE_URL_DE}/api/mfa/challenge\")\n",
    "response"
   ]
  },
  {
   "cell_type": "code",
   "execution_count": null,
   "metadata": {},
   "outputs": [],
   "source": [
    "response.json()"
   ]
  },
  {
   "cell_type": "code",
   "execution_count": null,
   "metadata": {},
   "outputs": [],
   "source": [
    "response.status_code == 401"
   ]
  },
  {
   "cell_type": "code",
   "execution_count": null,
   "metadata": {},
   "outputs": [],
   "source": [
    "response.json()"
   ]
  },
  {
   "cell_type": "code",
   "execution_count": null,
   "metadata": {},
   "outputs": [],
   "source": [
    "raise ValueError(\n",
    "    \"Unexpected response for initial auth request: {}\".format(response.text)\n",
    ")"
   ]
  },
  {
   "cell_type": "code",
   "execution_count": null,
   "metadata": {},
   "outputs": [],
   "source": [
    "user_1 = Api()"
   ]
  },
  {
   "cell_type": "code",
   "execution_count": null,
   "metadata": {},
   "outputs": [],
   "source": [
    "user_1.authenticate()"
   ]
  },
  {
   "cell_type": "code",
   "execution_count": null,
   "metadata": {},
   "outputs": [],
   "source": [
    "with open(\"./credentials.yaml\", \"r\") as stream:\n",
    "    try:\n",
    "        config = yaml.safe_load(stream)\n",
    "    except yaml.YAMLError as exc:\n",
    "        print(exc)\n"
   ]
  },
  {
   "cell_type": "code",
   "execution_count": null,
   "metadata": {},
   "outputs": [],
   "source": [
    "VALUES_TOKEN = config[\"values_token\"]"
   ]
  },
  {
   "cell_type": "markdown",
   "metadata": {},
   "source": [
    "# get mfa token"
   ]
  },
  {
   "cell_type": "code",
   "execution_count": null,
   "metadata": {},
   "outputs": [],
   "source": [
    "f\"{BASE_URL_DE}/oauth2/token\""
   ]
  },
  {
   "cell_type": "code",
   "execution_count": null,
   "metadata": {},
   "outputs": [],
   "source": [
    "s = requests.session() # a sessions is going to hold a lot of data\n",
    "BASIC_AUTH_HEADERS[\"device-token\"] = s.head(BASE_URL_GLOBAL+\"/oauth2/token\").headers[\"x-request-id\"]\n",
    "response = s.post(BASE_URL_DE+\"/oauth2/token\", data=VALUES_TOKEN, headers=BASIC_AUTH_HEADERS)\n",
    "if response.status_code != 403:\n",
    "    raise ValueError(\"Unexpected response for initial auth request: {}\".format(response.text))\n",
    "mfa_token = response.json()[\"mfaToken\"]\n",
    "mfa_data = {\n",
    "    \"mfaToken\": mfa_token,\n",
    "    \"challengeType\": \"oob\",\n",
    "}\n",
    "response.text"
   ]
  },
  {
   "cell_type": "markdown",
   "metadata": {},
   "source": [
    "# get push notifications in paired device"
   ]
  },
  {
   "cell_type": "code",
   "execution_count": null,
   "metadata": {},
   "outputs": [],
   "source": [
    "response = s.post(BASE_URL_DE+\"/api/mfa/challenge\",json=mfa_data,headers={**BASIC_AUTH_HEADERS,\"User-Agent\": USER_AGENT,\"Content-Type\": \"application/json\"})\n",
    "response.text"
   ]
  },
  {
   "cell_type": "markdown",
   "metadata": {},
   "source": [
    "# Get access and refresh token. Accept in paired device"
   ]
  },
  {
   "cell_type": "code",
   "execution_count": null,
   "metadata": {},
   "outputs": [],
   "source": [
    "mfa_token"
   ]
  },
  {
   "cell_type": "code",
   "execution_count": null,
   "metadata": {},
   "outputs": [],
   "source": [
    "@retry(wait=wait_fixed(5), stop=stop_after_delay(60))\n",
    "def finish_auth():\n",
    "    mfa_response_data = {\n",
    "        \"mfaToken\": mfa_token,\n",
    "        \"grant_type\": \"mfa_oob\",\n",
    "        \n",
    "    }\n",
    "    response = s.post(BASE_URL_DE+\"/oauth2/token\",data=mfa_response_data,headers=BASIC_AUTH_HEADERS)\n",
    "    response.raise_for_status()\n",
    "    tokens = response.json()\n",
    "    return tokens"
   ]
  },
  {
   "cell_type": "code",
   "execution_count": null,
   "metadata": {},
   "outputs": [],
   "source": [
    "def is_authenticated(self) -> bool:\n",
    "    return self._validate_token(self.token_data)\n"
   ]
  },
  {
   "cell_type": "code",
   "execution_count": null,
   "metadata": {},
   "outputs": [],
   "source": [
    "import time"
   ]
  },
  {
   "cell_type": "code",
   "execution_count": null,
   "metadata": {},
   "outputs": [],
   "source": [
    "h = {\n",
    "    \"access_token\":1,\n",
    "    \"token_type\": 2,\n",
    "    \"refresh_token\": 3,\n",
    "    \"expires_in\": 4,\n",
    "    \"scope\": 5,\n",
    "    \"host_url\": 6,\n",
    "}"
   ]
  },
  {
   "cell_type": "code",
   "execution_count": null,
   "metadata": {},
   "outputs": [],
   "source": [
    "from pathlib import Path\n"
   ]
  },
  {
   "cell_type": "code",
   "execution_count": null,
   "metadata": {},
   "outputs": [],
   "source": [
    "from pathlib import Path\n"
   ]
  },
  {
   "cell_type": "code",
   "execution_count": null,
   "metadata": {},
   "outputs": [],
   "source": [
    "def _refresh_token(refresh_token: str):\n",
    "    values_token = {\n",
    "        'grant_type': GRANT_TYPE_REFRESH_TOKEN,\n",
    "        'refresh_token': refresh_token,\n",
    "    }\n",
    "    response = requests.post(BASE_URL_GLOBAL + '/oauth2/token', data=values_token, headers=BASIC_AUTH_HEADERS)\n",
    "    response.raise_for_status()\n",
    "    return response.json()\n"
   ]
  },
  {
   "cell_type": "code",
   "execution_count": null,
   "metadata": {},
   "outputs": [],
   "source": [
    "token_data = finish_auth()\n",
    "token_data[\"expiration_time\"] = time.time() + token_data[\"expires_in\"]\n",
    "refresh_token = token_data[\"refresh_token\"]\n",
    "# _refresh_token(refresh_token)\n"
   ]
  }
 ],
 "metadata": {
  "kernelspec": {
   "display_name": "Python 3.9.12 ('analytics_complete')",
   "language": "python",
   "name": "python3"
  },
  "language_info": {
   "codemirror_mode": {
    "name": "ipython",
    "version": 3
   },
   "file_extension": ".py",
   "mimetype": "text/x-python",
   "name": "python",
   "nbconvert_exporter": "python",
   "pygments_lexer": "ipython3",
   "version": "3.9.12"
  },
  "orig_nbformat": 4,
  "vscode": {
   "interpreter": {
    "hash": "610e611f7e4e36dad8bd642952c566316885465521fca5e63198be54e81d192e"
   }
  }
 },
 "nbformat": 4,
 "nbformat_minor": 2
}
