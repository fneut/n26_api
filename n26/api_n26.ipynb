{
 "cells": [
  {
   "cell_type": "code",
   "execution_count": null,
   "metadata": {},
   "outputs": [],
   "source": [
    "import os\n",
    "import pandas as pd\n",
    "import numpy as np\n",
    "import re\n",
    "import json\n",
    "import sys\n",
    "\n",
    "pd.set_option('display.max_columns', None)"
   ]
  },
  {
   "cell_type": "code",
   "execution_count": null,
   "metadata": {},
   "outputs": [],
   "source": [
    "import nltk\n",
    "from nltk.stem import SnowballStemmer\n",
    "from nltk.corpus import stopwords\n"
   ]
  },
  {
   "cell_type": "code",
   "execution_count": null,
   "metadata": {},
   "outputs": [],
   "source": [
    "PATH = sys.path[3]\n",
    "PATH"
   ]
  },
  {
   "cell_type": "code",
   "execution_count": null,
   "metadata": {},
   "outputs": [],
   "source": [
    "WORDS = stopwords.words('english') #typical words, as 'me', 'we', 'our', 'be', 'so', 'than', 'too', 'very', 's', 't', 'can', 'will', 'just', 'don', \"don't\", 'should'\n"
   ]
  },
  {
   "cell_type": "code",
   "execution_count": null,
   "metadata": {},
   "outputs": [],
   "source": [
    "def label_transaction(transactions: dict):\n",
    "    for counter, transaction_operation in enumerate(transactions):\n",
    "        if \"amount\" in transaction_operation.keys():\n",
    "            if transaction_operation[\"amount\"] > 0:\n",
    "                transactions[counter][\"expense_type\"] = \"deposit\"\n",
    "            else:\n",
    "                transactions[counter][\"expense_type\"] = \"expense\"\n",
    "    return transactions\n",
    "\n",
    "def remove_wording_in_transaction_label(transactions: dict):\n",
    "    for counter, transaction_operation in enumerate(transactions):\n",
    "        if \"category\" in transaction_operation.keys():\n",
    "            transactions[counter][\"category_preprocessed\"] = \" \".join(transaction_operation[\"category\"].split(\"micro-v2-\")[-1].split(\"-\"))\n",
    "    return transactions\n",
    "\n",
    "\n",
    "def remove_commonly_used_words_from_transactions(transactions: dict):\n",
    "    \"\"\"\n",
    "    # [^a-zA-Z_] match everything that is NOT an uppercase or lowercase letter at the start of the word\n",
    "    # i.e. \"-netto\" will be replaced by \" netto\"  \n",
    "    \"\"\"\n",
    "    for counter, transaction_operation in enumerate(transactions):\n",
    "        if \"merchantName\" in transaction_operation.keys():\n",
    "            transactions[counter][\"merchantName_preprocessed\"] = \" \".join([i for i in re.sub(\"[^a-zA-Z]\",\" \",transaction_operation[\"merchantName\"]).split() if (i.lower() not in WORDS)]).lower()\n",
    "    return transactions\n"
   ]
  },
  {
   "cell_type": "code",
   "execution_count": null,
   "metadata": {},
   "outputs": [],
   "source": [
    "with open(f\"{PATH}/data_to_work_transactions.json\") as f:\n",
    "    data = json.load(f)"
   ]
  },
  {
   "cell_type": "code",
   "execution_count": null,
   "metadata": {},
   "outputs": [],
   "source": [
    "remove_commonly_used_words_from_transactions(data)\n",
    "remove_wording_in_transaction_label(data)\n",
    "label_transaction(data)"
   ]
  },
  {
   "cell_type": "code",
   "execution_count": null,
   "metadata": {},
   "outputs": [],
   "source": [
    "df = pd.DataFrame.from_dict(data)\n",
    "df[[\"merchantName\", \"merchantName_preprocessed\"]]"
   ]
  },
  {
   "cell_type": "code",
   "execution_count": null,
   "metadata": {},
   "outputs": [],
   "source": [
    "df = pd.DataFrame.from_dict(data)\n"
   ]
  },
  {
   "cell_type": "code",
   "execution_count": null,
   "metadata": {},
   "outputs": [],
   "source": [
    "df[\n",
    "    [\n",
    "    \"amount\",\n",
    "    \"merchantCity\",\n",
    "    \"merchantName\",\n",
    "    \"merchantName_preprocessed\",\n",
    "    \"category\",\n",
    "    \"category_preprocessed\",\n",
    "    \"expense_type\"\n",
    "    ]\n",
    "]"
   ]
  },
  {
   "cell_type": "code",
   "execution_count": null,
   "metadata": {},
   "outputs": [],
   "source": [
    "for col_name in df.columns:\n",
    "    print(col_name, \"\\n\", df[col_name].value_counts(), \"\\n\")"
   ]
  },
  {
   "cell_type": "code",
   "execution_count": null,
   "metadata": {},
   "outputs": [],
   "source": [
    "df[\"merchantName\"].value_counts()"
   ]
  },
  {
   "cell_type": "code",
   "execution_count": null,
   "metadata": {},
   "outputs": [],
   "source": [
    "\"https://stackoverflow.com/questions/15078519/python-dictionary-passed-as-an-input-to-a-function-acts-like-a-global-in-that-fu\""
   ]
  }
 ],
 "metadata": {
  "kernelspec": {
   "display_name": "Python 3.9.12 ('n26_complete')",
   "language": "python",
   "name": "python3"
  },
  "language_info": {
   "codemirror_mode": {
    "name": "ipython",
    "version": 3
   },
   "file_extension": ".py",
   "mimetype": "text/x-python",
   "name": "python",
   "nbconvert_exporter": "python",
   "pygments_lexer": "ipython3",
   "version": "3.9.12"
  },
  "orig_nbformat": 4,
  "vscode": {
   "interpreter": {
    "hash": "dbd52c071d72a0da18b0e8ee20cee1d52cf062fb47881cb0131549200748fa95"
   }
  }
 },
 "nbformat": 4,
 "nbformat_minor": 2
}
