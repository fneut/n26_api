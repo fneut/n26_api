{
 "cells": [
  {
   "cell_type": "code",
   "execution_count": 1,
   "metadata": {},
   "outputs": [
    {
     "name": "stdout",
     "output_type": "stream",
     "text": [
      "['-f', '/Users/felipeneut/Library/Jupyter/runtime/kernel-f3b04968-dc1b-4f4a-95ba-4c37c506a435.json']\n"
     ]
    },
    {
     "name": "stderr",
     "output_type": "stream",
     "text": [
      "UsageError: Line magic function `%autoreload` not found.\n"
     ]
    }
   ],
   "source": [
    "import requests\n",
    "# from bs4 import BeautifulSoup\n",
    "import socket    \n",
    "from tenacity import retry, stop_after_delay, wait_fixed\n",
    "import time\n",
    "from n26_api import Api\n",
    "import sys\n",
    "import yaml\n",
    "print(sys.argv[1:])\n",
    "%autoreload 2"
   ]
  },
  {
   "cell_type": "markdown",
   "metadata": {},
   "source": [
    "# N26"
   ]
  },
  {
   "cell_type": "code",
   "execution_count": 16,
   "metadata": {},
   "outputs": [],
   "source": [
    "GET = \"get\"\n",
    "POST = \"post\"\n",
    "\n",
    "EXPIRATION_TIME_KEY = \"expiration_time\"\n",
    "ACCESS_TOKEN_KEY = \"access_token\"\n",
    "REFRESH_TOKEN_KEY = \"refresh_token\"\n",
    "\n",
    "GRANT_TYPE_PASSWORD = \"password\"\n",
    "GRANT_TYPE_REFRESH_TOKEN = \"refresh_token\"\n",
    "BASE_URL_DE = \"https://api.tech26.de\"\n",
    "BASE_URL_GLOBAL = \"https://api.tech26.global\"\n",
    "USER_AGENT = \"Mozilla/5.0 (Macintosh; Intel Mac OS X 10_15_7) AppleWebKit/537.36 (KHTML, like Gecko) Chrome/102.0.0.0 Safari/537.36\"\n",
    "# BASIC_AUTH_HEADERS = {\"Authorization\": \"Basic bmF0aXZld2ViOg==\", \"Content-Type\": \"application/json\", \"User-Agent\": USER_AGENT}\n",
    "# BASIC_AUTH_HEADERS = {\"Authorization\": \"Basic bmF0aXZld2ViOg==\", \"Content-Type\": \"application/x-www-form-urlencoded\", \"User-Agent\": USER_AGENT}\n",
    "BASIC_AUTH_HEADERS = {\"Authorization\": \"Basic bmF0aXZld2ViOg==\"}"
   ]
  },
  {
   "cell_type": "code",
   "execution_count": 20,
   "metadata": {},
   "outputs": [
    {
     "data": {
      "text/plain": [
       "'c3f98176-b6bf-94f7-a7e4-3de6bd174964'"
      ]
     },
     "execution_count": 20,
     "metadata": {},
     "output_type": "execute_result"
    }
   ],
   "source": [
    "response = requests.head(f\"{BASE_URL_GLOBAL}/oauth2/token\")\n",
    "response.headers[\"x-request-id\"]"
   ]
  },
  {
   "cell_type": "code",
   "execution_count": 5,
   "metadata": {},
   "outputs": [],
   "source": [
    "import os.path\n",
    "import time\n",
    "import csv\n",
    "FIELD_NAMES = [\"refresh_token\", \"expires_in\", \"time\"]"
   ]
  },
  {
   "cell_type": "code",
   "execution_count": 10,
   "metadata": {},
   "outputs": [
    {
     "name": "stdout",
     "output_type": "stream",
     "text": [
      "False\n",
      "in\n"
     ]
    }
   ],
   "source": [
    "file_exists = os.path.isfile(\"refresh_token.csv\")\n",
    "print(file_exists)\n",
    "with open(\"refresh_token.csv\", \"a\") as f:\n",
    "    # csv_writer = csv.writer(f)\n",
    "    csv_writer = csv.DictWriter(f, fieldnames=FIELD_NAMES, delimiter=\",\")\n",
    "    if not file_exists:\n",
    "        print(\"in\")\n",
    "        csv_writer.writeheader()\n",
    "    line_to_write = {\n",
    "        \"refresh_token\": 124,\n",
    "        \"expires_in\": 5,\n",
    "        \"time\": time.time(),\n",
    "    }\n",
    "    csv_writer.writerow(line_to_write)"
   ]
  },
  {
   "cell_type": "code",
   "execution_count": 57,
   "metadata": {},
   "outputs": [],
   "source": [
    "FIELD_NAMES = [\"refresh_token\", \"expires_in\", \"time\"]\n",
    "file_exists = os.path.isfile(\"refresh_token.csv\")\n",
    "with open(\"./refresh_token.csv\", \"a\") as f:\n",
    "    csv_writer = csv.DictWriter(f, fieldnames=FIELD_NAMES, delimiter=\",\")\n",
    "    if not file_exists:\n",
    "        csv_writer.writeheader()\n",
    "    line_to_write = {\n",
    "        \"refresh_token\": 3,\n",
    "        \"expires_in\": 3,\n",
    "        \"time\":4,\n",
    "    }\n",
    "    csv_writer.writerow(line_to_write)"
   ]
  },
  {
   "cell_type": "code",
   "execution_count": 52,
   "metadata": {},
   "outputs": [
    {
     "name": "stdout",
     "output_type": "stream",
     "text": [
      "history_of_refresh_token: 1\n",
      "\n"
     ]
    }
   ],
   "source": [
    "history_of_refresh_token=1\n",
    "print(f\"history_of_refresh_token: {history_of_refresh_token}\\n\")"
   ]
  },
  {
   "cell_type": "code",
   "execution_count": 60,
   "metadata": {},
   "outputs": [
    {
     "name": "stdout",
     "output_type": "stream",
     "text": [
      "False\n"
     ]
    }
   ],
   "source": [
    "file_exists = os.path.isfile(\"./refresh_token.csv\")\n",
    "print(file_exists)"
   ]
  },
  {
   "cell_type": "code",
   "execution_count": 7,
   "metadata": {},
   "outputs": [],
   "source": [
    "def first_try():\n",
    "    try:\n",
    "        with open(\"./refresh_token.csv\", \"r\") as f:\n",
    "            csv_reader = csv.DictReader(f)\n",
    "            if REFRESH_TOKEN_KEY in csv_reader.fieldnames:\n",
    "                history_of_refresh_token = [line[REFRESH_TOKEN_KEY] for line in csv_reader]\n",
    "                # self.token_data = {REFRESH_TOKEN_KEY: history_of_refresh_token[-1]}\n",
    "                print(f\"history_of_refresh_token: {history_of_refresh_token}\\n\")\n",
    "                return True\n",
    "            else:\n",
    "                print(\"nop\")\n",
    "                # raise AssertionError(\"Cant refresh token since no existing token data was found in file.Please initiate a new authentication instead.\")\n",
    "    # except (IOError, OSError, FileNotFoundError) as error:\n",
    "    except OSError as error:\n",
    "        # print(\"holi\")\n",
    "        raise OSError(\"holi\")\n",
    "            # \"Cant refresh token since no file to read existen token data was found. Please initiate a new authentication instead.\",error)"
   ]
  },
  {
   "cell_type": "code",
   "execution_count": 8,
   "metadata": {},
   "outputs": [
    {
     "ename": "OSError",
     "evalue": "holi",
     "output_type": "error",
     "traceback": [
      "\u001b[0;31m---------------------------------------------------------------------------\u001b[0m",
      "\u001b[0;31mFileNotFoundError\u001b[0m                         Traceback (most recent call last)",
      "\u001b[1;32m/Users/felipeneut/git/code/prototyping/src/customer/colibri/api_n26.ipynb Cell 11\u001b[0m in \u001b[0;36mfirst_try\u001b[0;34m()\u001b[0m\n\u001b[1;32m      <a href='vscode-notebook-cell:/Users/felipeneut/git/code/prototyping/src/customer/colibri/api_n26.ipynb#ch0000010?line=1'>2</a>\u001b[0m \u001b[39mtry\u001b[39;00m:\n\u001b[0;32m----> <a href='vscode-notebook-cell:/Users/felipeneut/git/code/prototyping/src/customer/colibri/api_n26.ipynb#ch0000010?line=2'>3</a>\u001b[0m     \u001b[39mwith\u001b[39;00m \u001b[39mopen\u001b[39;49m(\u001b[39m\"\u001b[39;49m\u001b[39m./refresh_token.csv\u001b[39;49m\u001b[39m\"\u001b[39;49m, \u001b[39m\"\u001b[39;49m\u001b[39mr\u001b[39;49m\u001b[39m\"\u001b[39;49m) \u001b[39mas\u001b[39;00m f:\n\u001b[1;32m      <a href='vscode-notebook-cell:/Users/felipeneut/git/code/prototyping/src/customer/colibri/api_n26.ipynb#ch0000010?line=3'>4</a>\u001b[0m         csv_reader \u001b[39m=\u001b[39m csv\u001b[39m.\u001b[39mDictReader(f)\n",
      "\u001b[0;31mFileNotFoundError\u001b[0m: [Errno 2] No such file or directory: './refresh_token.csv'",
      "\nDuring handling of the above exception, another exception occurred:\n",
      "\u001b[0;31mOSError\u001b[0m                                   Traceback (most recent call last)",
      "\u001b[1;32m/Users/felipeneut/git/code/prototyping/src/customer/colibri/api_n26.ipynb Cell 11\u001b[0m in \u001b[0;36m<cell line: 1>\u001b[0;34m()\u001b[0m\n\u001b[0;32m----> <a href='vscode-notebook-cell:/Users/felipeneut/git/code/prototyping/src/customer/colibri/api_n26.ipynb#ch0000010?line=0'>1</a>\u001b[0m first_try()\n",
      "\u001b[1;32m/Users/felipeneut/git/code/prototyping/src/customer/colibri/api_n26.ipynb Cell 11\u001b[0m in \u001b[0;36mfirst_try\u001b[0;34m()\u001b[0m\n\u001b[1;32m     <a href='vscode-notebook-cell:/Users/felipeneut/git/code/prototyping/src/customer/colibri/api_n26.ipynb#ch0000010?line=11'>12</a>\u001b[0m             \u001b[39m# raise AssertionError(\"Cant refresh token since no existing token data was found in file.Please initiate a new authentication instead.\")\u001b[39;00m\n\u001b[1;32m     <a href='vscode-notebook-cell:/Users/felipeneut/git/code/prototyping/src/customer/colibri/api_n26.ipynb#ch0000010?line=12'>13</a>\u001b[0m \u001b[39m# except (IOError, OSError, FileNotFoundError) as error:\u001b[39;00m\n\u001b[1;32m     <a href='vscode-notebook-cell:/Users/felipeneut/git/code/prototyping/src/customer/colibri/api_n26.ipynb#ch0000010?line=13'>14</a>\u001b[0m \u001b[39mexcept\u001b[39;00m \u001b[39mOSError\u001b[39;00m \u001b[39mas\u001b[39;00m error:\n\u001b[1;32m     <a href='vscode-notebook-cell:/Users/felipeneut/git/code/prototyping/src/customer/colibri/api_n26.ipynb#ch0000010?line=14'>15</a>\u001b[0m     \u001b[39m# print(\"holi\")\u001b[39;00m\n\u001b[0;32m---> <a href='vscode-notebook-cell:/Users/felipeneut/git/code/prototyping/src/customer/colibri/api_n26.ipynb#ch0000010?line=15'>16</a>\u001b[0m     \u001b[39mraise\u001b[39;00m \u001b[39mOSError\u001b[39;00m(\u001b[39m\"\u001b[39m\u001b[39mholi\u001b[39m\u001b[39m\"\u001b[39m)\n",
      "\u001b[0;31mOSError\u001b[0m: holi"
     ]
    }
   ],
   "source": [
    "first_try()"
   ]
  },
  {
   "cell_type": "code",
   "execution_count": 9,
   "metadata": {},
   "outputs": [],
   "source": [
    "def sec_try():\n",
    "    try:\n",
    "        first_try()\n",
    "    except OSError:\n",
    "        print(\"q weaa\")\n",
    "\n",
    "\n",
    "    "
   ]
  },
  {
   "cell_type": "code",
   "execution_count": 10,
   "metadata": {},
   "outputs": [
    {
     "name": "stdout",
     "output_type": "stream",
     "text": [
      "q weaa\n"
     ]
    }
   ],
   "source": [
    "sec_try()"
   ]
  },
  {
   "cell_type": "code",
   "execution_count": 58,
   "metadata": {},
   "outputs": [
    {
     "name": "stdout",
     "output_type": "stream",
     "text": [
      "yes\n"
     ]
    },
    {
     "data": {
      "text/plain": [
       "True"
      ]
     },
     "execution_count": 58,
     "metadata": {},
     "output_type": "execute_result"
    }
   ],
   "source": [
    "first_try().strerror == 'No such file or directory'"
   ]
  },
  {
   "cell_type": "code",
   "execution_count": 56,
   "metadata": {},
   "outputs": [
    {
     "name": "stdout",
     "output_type": "stream",
     "text": [
      "yes\n"
     ]
    },
    {
     "data": {
      "text/plain": [
       "'No such file or directory'"
      ]
     },
     "execution_count": 56,
     "metadata": {},
     "output_type": "execute_result"
    }
   ],
   "source": [
    "first_try().strerror"
   ]
  },
  {
   "cell_type": "code",
   "execution_count": 52,
   "metadata": {},
   "outputs": [
    {
     "name": "stdout",
     "output_type": "stream",
     "text": [
      "yes\n"
     ]
    },
    {
     "data": {
      "text/plain": [
       "['__cause__',\n",
       " '__class__',\n",
       " '__context__',\n",
       " '__delattr__',\n",
       " '__dict__',\n",
       " '__dir__',\n",
       " '__doc__',\n",
       " '__eq__',\n",
       " '__format__',\n",
       " '__ge__',\n",
       " '__getattribute__',\n",
       " '__gt__',\n",
       " '__hash__',\n",
       " '__init__',\n",
       " '__init_subclass__',\n",
       " '__le__',\n",
       " '__lt__',\n",
       " '__ne__',\n",
       " '__new__',\n",
       " '__reduce__',\n",
       " '__reduce_ex__',\n",
       " '__repr__',\n",
       " '__setattr__',\n",
       " '__setstate__',\n",
       " '__sizeof__',\n",
       " '__str__',\n",
       " '__subclasshook__',\n",
       " '__suppress_context__',\n",
       " '__traceback__',\n",
       " 'args',\n",
       " 'characters_written',\n",
       " 'errno',\n",
       " 'filename',\n",
       " 'filename2',\n",
       " 'strerror',\n",
       " 'with_traceback']"
      ]
     },
     "execution_count": 52,
     "metadata": {},
     "output_type": "execute_result"
    }
   ],
   "source": [
    "dir(first_try())"
   ]
  },
  {
   "cell_type": "code",
   "execution_count": 51,
   "metadata": {},
   "outputs": [
    {
     "name": "stdout",
     "output_type": "stream",
     "text": [
      "yes\n",
      "[Errno 2] No such file or directory: './refresh_token.csv'\n"
     ]
    }
   ],
   "source": [
    "sec_try()"
   ]
  },
  {
   "cell_type": "code",
   "execution_count": 55,
   "metadata": {},
   "outputs": [
    {
     "ename": "SyntaxError",
     "evalue": "invalid syntax (636119519.py, line 8)",
     "output_type": "error",
     "traceback": [
      "\u001b[0;36m  Input \u001b[0;32mIn [55]\u001b[0;36m\u001b[0m\n\u001b[0;31m    except Exception:\u001b[0m\n\u001b[0m    ^\u001b[0m\n\u001b[0;31mSyntaxError\u001b[0m\u001b[0;31m:\u001b[0m invalid syntax\n"
     ]
    }
   ],
   "source": [
    "with open(\"./refresh_token.csv\", \"r\") as f:\n",
    "    csv_reader = csv.DictReader(f)\n",
    "    if \"refresh_token\" in csv_reader.fieldnames:\n",
    "        history_of_refresh_token = [line[\"refresh_token\"] for line in csv_reader]\n",
    "        print(f\"history_of_refresh_token: {history_of_refresh_token}\\n\")\n",
    "    else:\n",
    "        raise ValueError(\"No refresh token was found in the columns\")\n",
    "    except Exception:\n",
    "        print('not found')"
   ]
  },
  {
   "cell_type": "code",
   "execution_count": 8,
   "metadata": {},
   "outputs": [
    {
     "data": {
      "text/plain": [
       "<Response [401]>"
      ]
     },
     "execution_count": 8,
     "metadata": {},
     "output_type": "execute_result"
    }
   ],
   "source": [
    "response = requests.post(f\"{BASE_URL_DE}/api/mfa/challenge\")\n",
    "response"
   ]
  },
  {
   "cell_type": "code",
   "execution_count": 10,
   "metadata": {},
   "outputs": [
    {
     "data": {
      "text/plain": [
       "{'timestamp': '2022-07-20T19:00:32.055+0000',\n",
       " 'status': 401,\n",
       " 'error': 'Unauthorized',\n",
       " 'message': 'Unauthorized',\n",
       " 'path': '/api/mfa/challenge'}"
      ]
     },
     "execution_count": 10,
     "metadata": {},
     "output_type": "execute_result"
    }
   ],
   "source": [
    "response.json()"
   ]
  },
  {
   "cell_type": "code",
   "execution_count": 13,
   "metadata": {},
   "outputs": [
    {
     "data": {
      "text/plain": [
       "True"
      ]
     },
     "execution_count": 13,
     "metadata": {},
     "output_type": "execute_result"
    }
   ],
   "source": [
    "response.status_code == 401"
   ]
  },
  {
   "cell_type": "code",
   "execution_count": 30,
   "metadata": {},
   "outputs": [
    {
     "data": {
      "text/plain": [
       "{'timestamp': '2022-07-10T20:45:40.510+0000',\n",
       " 'status': 401,\n",
       " 'error': 'Unauthorized',\n",
       " 'message': 'Unauthorized',\n",
       " 'path': '/api/mfa/challenge'}"
      ]
     },
     "execution_count": 30,
     "metadata": {},
     "output_type": "execute_result"
    }
   ],
   "source": [
    "response.json()"
   ]
  },
  {
   "cell_type": "code",
   "execution_count": 31,
   "metadata": {},
   "outputs": [
    {
     "ename": "ValueError",
     "evalue": "Unexpected response for initial auth request: {\"timestamp\":\"2022-07-10T20:45:40.510+0000\",\"status\":401,\"error\":\"Unauthorized\",\"message\":\"Unauthorized\",\"path\":\"/api/mfa/challenge\"}",
     "output_type": "error",
     "traceback": [
      "\u001b[0;31m---------------------------------------------------------------------------\u001b[0m",
      "\u001b[0;31mValueError\u001b[0m                                Traceback (most recent call last)",
      "\u001b[1;32m/Users/felipeneut/git/code/prototyping/src/customer/colibri/api_n26.ipynb Cell 8'\u001b[0m in \u001b[0;36m<cell line: 1>\u001b[0;34m()\u001b[0m\n\u001b[0;32m----> <a href='vscode-notebook-cell:/Users/felipeneut/git/code/prototyping/src/customer/colibri/api_n26.ipynb#ch0000070?line=0'>1</a>\u001b[0m \u001b[39mraise\u001b[39;00m \u001b[39mValueError\u001b[39;00m(\n\u001b[1;32m      <a href='vscode-notebook-cell:/Users/felipeneut/git/code/prototyping/src/customer/colibri/api_n26.ipynb#ch0000070?line=1'>2</a>\u001b[0m     \u001b[39m\"\u001b[39m\u001b[39mUnexpected response for initial auth request: \u001b[39m\u001b[39m{}\u001b[39;00m\u001b[39m\"\u001b[39m\u001b[39m.\u001b[39mformat(response\u001b[39m.\u001b[39mtext)\n\u001b[1;32m      <a href='vscode-notebook-cell:/Users/felipeneut/git/code/prototyping/src/customer/colibri/api_n26.ipynb#ch0000070?line=2'>3</a>\u001b[0m )\n",
      "\u001b[0;31mValueError\u001b[0m: Unexpected response for initial auth request: {\"timestamp\":\"2022-07-10T20:45:40.510+0000\",\"status\":401,\"error\":\"Unauthorized\",\"message\":\"Unauthorized\",\"path\":\"/api/mfa/challenge\"}"
     ]
    }
   ],
   "source": [
    "raise ValueError(\n",
    "    \"Unexpected response for initial auth request: {}\".format(response.text)\n",
    ")"
   ]
  },
  {
   "cell_type": "code",
   "execution_count": 5,
   "metadata": {},
   "outputs": [],
   "source": [
    "user_1 = Api()"
   ]
  },
  {
   "cell_type": "code",
   "execution_count": 8,
   "metadata": {},
   "outputs": [
    {
     "name": "stdout",
     "output_type": "stream",
     "text": [
      "done with device token\n",
      "done with mfa_token\n"
     ]
    },
    {
     "ename": "AttributeError",
     "evalue": "'Response' object has no attribute 'status'",
     "output_type": "error",
     "traceback": [
      "\u001b[0;31m---------------------------------------------------------------------------\u001b[0m",
      "\u001b[0;31mAttributeError\u001b[0m                            Traceback (most recent call last)",
      "\u001b[1;32m/Users/felipeneut/git/code/prototyping/src/customer/colibri/api_n26.ipynb Cell 9\u001b[0m in \u001b[0;36m<cell line: 1>\u001b[0;34m()\u001b[0m\n\u001b[0;32m----> <a href='vscode-notebook-cell:/Users/felipeneut/git/code/prototyping/src/customer/colibri/api_n26.ipynb#ch0000009?line=0'>1</a>\u001b[0m user_1\u001b[39m.\u001b[39;49mauthenticate()\n",
      "File \u001b[0;32m~/git/code/prototyping/src/customer/colibri/n26_api.py:100\u001b[0m, in \u001b[0;36mApi.authenticate\u001b[0;34m(self)\u001b[0m\n\u001b[1;32m     98\u001b[0m mfa_token \u001b[39m=\u001b[39m \u001b[39mself\u001b[39m\u001b[39m.\u001b[39mget_mfa_token\n\u001b[1;32m     99\u001b[0m \u001b[39mprint\u001b[39m(\u001b[39m\"\u001b[39m\u001b[39mdone with mfa_token\u001b[39m\u001b[39m\"\u001b[39m)\n\u001b[0;32m--> 100\u001b[0m \u001b[39mself\u001b[39;49m\u001b[39m.\u001b[39;49mget_notification_in_paired_device(mfa_token)\n\u001b[1;32m    101\u001b[0m \u001b[39mself\u001b[39m\u001b[39m.\u001b[39mtoken_data \u001b[39m=\u001b[39m \u001b[39mself\u001b[39m\u001b[39m.\u001b[39mget_access_and_refresh_token(mfa_token)\n\u001b[1;32m    102\u001b[0m \u001b[39mself\u001b[39m\u001b[39m.\u001b[39mtoken_data[EXPIRATION_TIME_KEY] \u001b[39m=\u001b[39m time\u001b[39m.\u001b[39mtime() \u001b[39m+\u001b[39m \u001b[39mself\u001b[39m\u001b[39m.\u001b[39mtoken_data[\u001b[39m\"\u001b[39m\u001b[39mexpires_in\u001b[39m\u001b[39m\"\u001b[39m]\n",
      "File \u001b[0;32m~/git/code/prototyping/src/customer/colibri/n26_api.py:73\u001b[0m, in \u001b[0;36mApi.get_notification_in_paired_device\u001b[0;34m(self, mfa_token)\u001b[0m\n\u001b[1;32m     60\u001b[0m mfa_data \u001b[39m=\u001b[39m {\n\u001b[1;32m     61\u001b[0m     \u001b[39m\"\u001b[39m\u001b[39mmfaToken\u001b[39m\u001b[39m\"\u001b[39m: mfa_token,\n\u001b[1;32m     62\u001b[0m     \u001b[39m\"\u001b[39m\u001b[39mchallengeType\u001b[39m\u001b[39m\"\u001b[39m: CHALLENGE_TYPE,\n\u001b[1;32m     63\u001b[0m }\n\u001b[1;32m     64\u001b[0m response \u001b[39m=\u001b[39m requests\u001b[39m.\u001b[39mpost(\n\u001b[1;32m     65\u001b[0m     BASE_URL_DE \u001b[39m+\u001b[39m \u001b[39m\"\u001b[39m\u001b[39m/api/mfa/challenge\u001b[39m\u001b[39m\"\u001b[39m,\n\u001b[1;32m     66\u001b[0m     json\u001b[39m=\u001b[39mmfa_data,\n\u001b[0;32m   (...)\u001b[0m\n\u001b[1;32m     71\u001b[0m     },\n\u001b[1;32m     72\u001b[0m )\n\u001b[0;32m---> 73\u001b[0m \u001b[39mif\u001b[39;00m response\u001b[39m.\u001b[39;49mstatus \u001b[39m!=\u001b[39m \u001b[39m200\u001b[39m:\n\u001b[1;32m     74\u001b[0m     \u001b[39mraise\u001b[39;00m \u001b[39mValueError\u001b[39;00m(\n\u001b[1;32m     75\u001b[0m         \u001b[39m\"\u001b[39m\u001b[39mUnexpected response for initial auth request: \u001b[39m\u001b[39m{}\u001b[39;00m\u001b[39m\"\u001b[39m\u001b[39m.\u001b[39mformat(response\u001b[39m.\u001b[39mtext)\n\u001b[1;32m     76\u001b[0m     )\n\u001b[1;32m     77\u001b[0m \u001b[39mreturn\u001b[39;00m response\n",
      "\u001b[0;31mAttributeError\u001b[0m: 'Response' object has no attribute 'status'"
     ]
    }
   ],
   "source": [
    "user_1.authenticate()"
   ]
  },
  {
   "cell_type": "code",
   "execution_count": 7,
   "metadata": {},
   "outputs": [],
   "source": [
    "with open(\"./credentials.yaml\", \"r\") as stream:\n",
    "    try:\n",
    "        config = yaml.safe_load(stream)\n",
    "    except yaml.YAMLError as exc:\n",
    "        print(exc)\n"
   ]
  },
  {
   "cell_type": "code",
   "execution_count": 10,
   "metadata": {},
   "outputs": [],
   "source": [
    "VALUES_TOKEN = config[\"values_token\"]"
   ]
  },
  {
   "cell_type": "markdown",
   "metadata": {},
   "source": [
    "# get mfa token"
   ]
  },
  {
   "cell_type": "code",
   "execution_count": 14,
   "metadata": {},
   "outputs": [
    {
     "data": {
      "text/plain": [
       "'https://api.tech26.de/oauth2/token'"
      ]
     },
     "execution_count": 14,
     "metadata": {},
     "output_type": "execute_result"
    }
   ],
   "source": [
    "f\"{BASE_URL_DE}/oauth2/token\""
   ]
  },
  {
   "cell_type": "code",
   "execution_count": 12,
   "metadata": {},
   "outputs": [
    {
     "data": {
      "text/plain": [
       "'{\"userMessage\":{\"title\":\"A second authentication factor is required.\",\"detail\":\"Please provide your second form of authentication.\"},\"mfaToken\":\"18196338-3317-41df-8a54-3e913ca4ba35\",\"error_description\":\"MFA token is required\",\"detail\":\"MFA token is required\",\"hostUrl\":\"https://api.tech26.de\",\"type\":\"mfa_required\",\"error\":\"mfa_required\",\"title\":\"A second authentication factor is required.\",\"message\":\"Please provide your second form of authentication.\",\"userId\":\"d5b94e64-1311-47a1-989f-a90cd8b508c3\",\"status\":403}'"
      ]
     },
     "execution_count": 12,
     "metadata": {},
     "output_type": "execute_result"
    }
   ],
   "source": [
    "s = requests.session() # a sessions is going to hold a lot of data\n",
    "BASIC_AUTH_HEADERS[\"device-token\"] = s.head(BASE_URL_GLOBAL+\"/oauth2/token\").headers[\"x-request-id\"]\n",
    "response = s.post(BASE_URL_DE+\"/oauth2/token\", data=VALUES_TOKEN, headers=BASIC_AUTH_HEADERS)\n",
    "if response.status_code != 403:\n",
    "    raise ValueError(\"Unexpected response for initial auth request: {}\".format(response.text))\n",
    "mfa_token = response.json()[\"mfaToken\"]\n",
    "mfa_data = {\n",
    "    \"mfaToken\": mfa_token,\n",
    "    \"challengeType\": \"oob\",\n",
    "}\n",
    "response.text"
   ]
  },
  {
   "cell_type": "markdown",
   "metadata": {},
   "source": [
    "# get push notifications in paired device"
   ]
  },
  {
   "cell_type": "code",
   "execution_count": 16,
   "metadata": {},
   "outputs": [
    {
     "data": {
      "text/plain": [
       "'{\"challengeType\":\"oob\"}'"
      ]
     },
     "execution_count": 16,
     "metadata": {},
     "output_type": "execute_result"
    }
   ],
   "source": [
    "response = s.post(BASE_URL_DE+\"/api/mfa/challenge\",json=mfa_data,headers={**BASIC_AUTH_HEADERS,\"User-Agent\": USER_AGENT,\"Content-Type\": \"application/json\"})\n",
    "response.text"
   ]
  },
  {
   "cell_type": "markdown",
   "metadata": {},
   "source": [
    "# Get access and refresh token. Accept in paired device"
   ]
  },
  {
   "cell_type": "code",
   "execution_count": 18,
   "metadata": {},
   "outputs": [
    {
     "data": {
      "text/plain": [
       "'b1d73eaf-fe8c-45c7-9628-b509c44e9c4d'"
      ]
     },
     "execution_count": 18,
     "metadata": {},
     "output_type": "execute_result"
    }
   ],
   "source": [
    "mfa_token"
   ]
  },
  {
   "cell_type": "code",
   "execution_count": 20,
   "metadata": {},
   "outputs": [],
   "source": [
    "@retry(wait=wait_fixed(5), stop=stop_after_delay(60))\n",
    "def finish_auth():\n",
    "    mfa_response_data = {\n",
    "        \"mfaToken\": mfa_token,\n",
    "        \"grant_type\": \"mfa_oob\",\n",
    "        \n",
    "    }\n",
    "    response = s.post(BASE_URL_DE+\"/oauth2/token\",data=mfa_response_data,headers=BASIC_AUTH_HEADERS)\n",
    "    response.raise_for_status()\n",
    "    tokens = response.json()\n",
    "    return tokens"
   ]
  },
  {
   "cell_type": "code",
   "execution_count": null,
   "metadata": {},
   "outputs": [],
   "source": [
    "def is_authenticated(self) -> bool:\n",
    "    return self._validate_token(self.token_data)\n"
   ]
  },
  {
   "cell_type": "code",
   "execution_count": 9,
   "metadata": {},
   "outputs": [],
   "source": [
    "import time"
   ]
  },
  {
   "cell_type": "code",
   "execution_count": 12,
   "metadata": {},
   "outputs": [],
   "source": [
    "h = {\n",
    "    \"access_token\":1,\n",
    "    \"token_type\": 2,\n",
    "    \"refresh_token\": 3,\n",
    "    \"expires_in\": 4,\n",
    "    \"scope\": 5,\n",
    "    \"host_url\": 6,\n",
    "}"
   ]
  },
  {
   "cell_type": "code",
   "execution_count": 87,
   "metadata": {},
   "outputs": [],
   "source": [
    "from pathlib import Path\n"
   ]
  },
  {
   "cell_type": "code",
   "execution_count": null,
   "metadata": {},
   "outputs": [],
   "source": [
    "from pathlib import Path\n"
   ]
  },
  {
   "cell_type": "code",
   "execution_count": null,
   "metadata": {},
   "outputs": [],
   "source": [
    "def _refresh_token(refresh_token: str):\n",
    "    values_token = {\n",
    "        'grant_type': GRANT_TYPE_REFRESH_TOKEN,\n",
    "        'refresh_token': refresh_token,\n",
    "    }\n",
    "    response = requests.post(BASE_URL_GLOBAL + '/oauth2/token', data=values_token, headers=BASIC_AUTH_HEADERS)\n",
    "    response.raise_for_status()\n",
    "    return response.json()\n"
   ]
  },
  {
   "cell_type": "code",
   "execution_count": null,
   "metadata": {},
   "outputs": [],
   "source": [
    "token_data = finish_auth()\n",
    "token_data[\"expiration_time\"] = time.time() + token_data[\"expires_in\"]\n",
    "refresh_token = token_data[\"refresh_token\"]\n",
    "# _refresh_token(refresh_token)\n"
   ]
  }
 ],
 "metadata": {
  "kernelspec": {
   "display_name": "Python 3.9.12 ('analytics_complete')",
   "language": "python",
   "name": "python3"
  },
  "language_info": {
   "codemirror_mode": {
    "name": "ipython",
    "version": 3
   },
   "file_extension": ".py",
   "mimetype": "text/x-python",
   "name": "python",
   "nbconvert_exporter": "python",
   "pygments_lexer": "ipython3",
   "version": "3.9.12"
  },
  "orig_nbformat": 4,
  "vscode": {
   "interpreter": {
    "hash": "610e611f7e4e36dad8bd642952c566316885465521fca5e63198be54e81d192e"
   }
  }
 },
 "nbformat": 4,
 "nbformat_minor": 2
}
